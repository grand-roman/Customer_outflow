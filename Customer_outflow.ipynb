{
 "cells": [
  {
   "cell_type": "markdown",
   "metadata": {},
   "source": [
    "# Отток клиентов"
   ]
  },
  {
   "cell_type": "markdown",
   "metadata": {},
   "source": [
    "Из «Бета-Банка» стали уходить клиенты. Каждый месяц. Немного, но заметно. Банковские маркетологи посчитали: сохранять текущих клиентов дешевле, чем привлекать новых.\n",
    "\n",
    "Нужно спрогнозировать, уйдёт клиент из банка в ближайшее время или нет. Вам предоставлены исторические данные о поведении клиентов и расторжении договоров с банком. \n",
    "\n",
    "Постройте модель с предельно большим значением *F1*-меры. Чтобы сдать проект успешно, нужно довести метрику до 0.59. Проверьте *F1*-меру на тестовой выборке самостоятельно.\n",
    "\n",
    "Дополнительно измеряйте *AUC-ROC*, сравнивайте её значение с *F1*-мерой.\n",
    "\n",
    "Источник данных: [https://www.kaggle.com/barelydedicated/bank-customer-churn-modeling](https://www.kaggle.com/barelydedicated/bank-customer-churn-modeling)"
   ]
  },
  {
   "cell_type": "markdown",
   "metadata": {},
   "source": [
    "# 1. Подготовка данных"
   ]
  },
  {
   "cell_type": "code",
   "execution_count": 1,
   "metadata": {},
   "outputs": [],
   "source": [
    "import pandas as pd\n",
    "import matplotlib.pyplot as plt\n",
    "\n",
    "from sklearn.model_selection import train_test_split\n",
    "from sklearn.preprocessing import OrdinalEncoder, StandardScaler\n",
    "from sklearn.utils import shuffle\n",
    "\n",
    "from sklearn.tree import DecisionTreeClassifier\n",
    "from sklearn.ensemble import RandomForestClassifier\n",
    "from sklearn.linear_model import LogisticRegression\n",
    "\n",
    "from sklearn.metrics import f1_score, roc_auc_score"
   ]
  },
  {
   "cell_type": "code",
   "execution_count": 12,
   "metadata": {},
   "outputs": [],
   "source": [
    "data = pd.read_csv('/datasets/Churn.csv')"
   ]
  },
  {
   "cell_type": "code",
   "execution_count": 13,
   "metadata": {},
   "outputs": [
    {
     "name": "stdout",
     "output_type": "stream",
     "text": [
      "<class 'pandas.core.frame.DataFrame'>\n",
      "RangeIndex: 10000 entries, 0 to 9999\n",
      "Data columns (total 14 columns):\n",
      "RowNumber          10000 non-null int64\n",
      "CustomerId         10000 non-null int64\n",
      "Surname            10000 non-null object\n",
      "CreditScore        10000 non-null int64\n",
      "Geography          10000 non-null object\n",
      "Gender             10000 non-null object\n",
      "Age                10000 non-null int64\n",
      "Tenure             9091 non-null float64\n",
      "Balance            10000 non-null float64\n",
      "NumOfProducts      10000 non-null int64\n",
      "HasCrCard          10000 non-null int64\n",
      "IsActiveMember     10000 non-null int64\n",
      "EstimatedSalary    10000 non-null float64\n",
      "Exited             10000 non-null int64\n",
      "dtypes: float64(3), int64(8), object(3)\n",
      "memory usage: 1.1+ MB\n"
     ]
    }
   ],
   "source": [
    "data.info()"
   ]
  },
  {
   "cell_type": "markdown",
   "metadata": {},
   "source": [
    "| Название        | Описание                                          | Тип            | Нужен для обучения модели |\n",
    "|-----------------|:--------------------------------------------------|----------------|---------------------------|\n",
    "| RowNumber       | Индекс строки в данных                            | Категориальный | Нет                       |\n",
    "| CustomerId      | Уникальный идентификатор клиента                  | Категориальный | Нет                       |\n",
    "| Surname         | Фамилия                                           | Категориальный | Нет                       |\n",
    "| CreditScore     | Кредитный рейтинг                                 | Количественный | Да                        |\n",
    "| Geography       | Страна проживания                                 | Категориальный | Да                        |\n",
    "| Gender          | Пол                                               | Категориальный | Да                        |\n",
    "| Age             | Возраст                                           | Количественный | Да                        |\n",
    "| Tenure          | Количество недвижимости у клиента                 | Количественный | Да                        |\n",
    "| Balance         | Баланс на счёте                                   | Количественный | Да                        |\n",
    "| NumOfProducts   | Количество продуктов банка, используемых клиентом | Количественный | Да                        |\n",
    "| HasCrCard       | Наличие кредитной карты                           | Категориальный | Да                        |\n",
    "| IsActiveMember  | Активность клиента                                | Категориальный | Да                        |\n",
    "| EstimatedSalary | Предполагаемая зарплата                           | Количественный | Да                        |\n",
    "| Exited          | Факт ухода клиента – _целевой признак_            | Категориальный | -                         |"
   ]
  },
  {
   "cell_type": "code",
   "execution_count": 14,
   "metadata": {},
   "outputs": [
    {
     "data": {
      "text/html": [
       "<div>\n",
       "<style scoped>\n",
       "    .dataframe tbody tr th:only-of-type {\n",
       "        vertical-align: middle;\n",
       "    }\n",
       "\n",
       "    .dataframe tbody tr th {\n",
       "        vertical-align: top;\n",
       "    }\n",
       "\n",
       "    .dataframe thead th {\n",
       "        text-align: right;\n",
       "    }\n",
       "</style>\n",
       "<table border=\"1\" class=\"dataframe\">\n",
       "  <thead>\n",
       "    <tr style=\"text-align: right;\">\n",
       "      <th></th>\n",
       "      <th>RowNumber</th>\n",
       "      <th>CustomerId</th>\n",
       "      <th>Surname</th>\n",
       "      <th>CreditScore</th>\n",
       "      <th>Geography</th>\n",
       "      <th>Gender</th>\n",
       "      <th>Age</th>\n",
       "      <th>Tenure</th>\n",
       "      <th>Balance</th>\n",
       "      <th>NumOfProducts</th>\n",
       "      <th>HasCrCard</th>\n",
       "      <th>IsActiveMember</th>\n",
       "      <th>EstimatedSalary</th>\n",
       "      <th>Exited</th>\n",
       "    </tr>\n",
       "  </thead>\n",
       "  <tbody>\n",
       "    <tr>\n",
       "      <td>0</td>\n",
       "      <td>1</td>\n",
       "      <td>15634602</td>\n",
       "      <td>Hargrave</td>\n",
       "      <td>619</td>\n",
       "      <td>France</td>\n",
       "      <td>Female</td>\n",
       "      <td>42</td>\n",
       "      <td>2.0</td>\n",
       "      <td>0.00</td>\n",
       "      <td>1</td>\n",
       "      <td>1</td>\n",
       "      <td>1</td>\n",
       "      <td>101348.88</td>\n",
       "      <td>1</td>\n",
       "    </tr>\n",
       "    <tr>\n",
       "      <td>1</td>\n",
       "      <td>2</td>\n",
       "      <td>15647311</td>\n",
       "      <td>Hill</td>\n",
       "      <td>608</td>\n",
       "      <td>Spain</td>\n",
       "      <td>Female</td>\n",
       "      <td>41</td>\n",
       "      <td>1.0</td>\n",
       "      <td>83807.86</td>\n",
       "      <td>1</td>\n",
       "      <td>0</td>\n",
       "      <td>1</td>\n",
       "      <td>112542.58</td>\n",
       "      <td>0</td>\n",
       "    </tr>\n",
       "    <tr>\n",
       "      <td>2</td>\n",
       "      <td>3</td>\n",
       "      <td>15619304</td>\n",
       "      <td>Onio</td>\n",
       "      <td>502</td>\n",
       "      <td>France</td>\n",
       "      <td>Female</td>\n",
       "      <td>42</td>\n",
       "      <td>8.0</td>\n",
       "      <td>159660.80</td>\n",
       "      <td>3</td>\n",
       "      <td>1</td>\n",
       "      <td>0</td>\n",
       "      <td>113931.57</td>\n",
       "      <td>1</td>\n",
       "    </tr>\n",
       "    <tr>\n",
       "      <td>3</td>\n",
       "      <td>4</td>\n",
       "      <td>15701354</td>\n",
       "      <td>Boni</td>\n",
       "      <td>699</td>\n",
       "      <td>France</td>\n",
       "      <td>Female</td>\n",
       "      <td>39</td>\n",
       "      <td>1.0</td>\n",
       "      <td>0.00</td>\n",
       "      <td>2</td>\n",
       "      <td>0</td>\n",
       "      <td>0</td>\n",
       "      <td>93826.63</td>\n",
       "      <td>0</td>\n",
       "    </tr>\n",
       "    <tr>\n",
       "      <td>4</td>\n",
       "      <td>5</td>\n",
       "      <td>15737888</td>\n",
       "      <td>Mitchell</td>\n",
       "      <td>850</td>\n",
       "      <td>Spain</td>\n",
       "      <td>Female</td>\n",
       "      <td>43</td>\n",
       "      <td>2.0</td>\n",
       "      <td>125510.82</td>\n",
       "      <td>1</td>\n",
       "      <td>1</td>\n",
       "      <td>1</td>\n",
       "      <td>79084.10</td>\n",
       "      <td>0</td>\n",
       "    </tr>\n",
       "  </tbody>\n",
       "</table>\n",
       "</div>"
      ],
      "text/plain": [
       "   RowNumber  CustomerId   Surname  CreditScore Geography  Gender  Age  \\\n",
       "0          1    15634602  Hargrave          619    France  Female   42   \n",
       "1          2    15647311      Hill          608     Spain  Female   41   \n",
       "2          3    15619304      Onio          502    France  Female   42   \n",
       "3          4    15701354      Boni          699    France  Female   39   \n",
       "4          5    15737888  Mitchell          850     Spain  Female   43   \n",
       "\n",
       "   Tenure    Balance  NumOfProducts  HasCrCard  IsActiveMember  \\\n",
       "0     2.0       0.00              1          1               1   \n",
       "1     1.0   83807.86              1          0               1   \n",
       "2     8.0  159660.80              3          1               0   \n",
       "3     1.0       0.00              2          0               0   \n",
       "4     2.0  125510.82              1          1               1   \n",
       "\n",
       "   EstimatedSalary  Exited  \n",
       "0        101348.88       1  \n",
       "1        112542.58       0  \n",
       "2        113931.57       1  \n",
       "3         93826.63       0  \n",
       "4         79084.10       0  "
      ]
     },
     "execution_count": 14,
     "metadata": {},
     "output_type": "execute_result"
    }
   ],
   "source": [
    "data.head()"
   ]
  },
  {
   "cell_type": "code",
   "execution_count": 15,
   "metadata": {},
   "outputs": [
    {
     "data": {
      "text/plain": [
       "France     5014\n",
       "Germany    2509\n",
       "Spain      2477\n",
       "Name: Geography, dtype: int64"
      ]
     },
     "execution_count": 15,
     "metadata": {},
     "output_type": "execute_result"
    }
   ],
   "source": [
    "data['Geography'].value_counts()"
   ]
  },
  {
   "cell_type": "markdown",
   "metadata": {},
   "source": [
    "На сайте Kaggle мы заметили, что признак Surname представлен 2 932 уникальными значениями. Убедимся в том, что всё-таки в нашем датасете все клиенты уникальные:"
   ]
  },
  {
   "cell_type": "code",
   "execution_count": 16,
   "metadata": {},
   "outputs": [
    {
     "data": {
      "text/plain": [
       "10000"
      ]
     },
     "execution_count": 16,
     "metadata": {},
     "output_type": "execute_result"
    }
   ],
   "source": [
    "len(data['CustomerId'].unique())"
   ]
  },
  {
   "cell_type": "markdown",
   "metadata": {},
   "source": [
    "Тип данных признака Tenure – float64. Pandas при чтении датасета вывел данный тип из-за наличия пропусков. Результат обработки пропусков в датасете может повлиять на качество модели. Мы можем заполнить пропуски средним значением, что может привести к переобучению или же удалить ~10% объектов. Данных у нас не так мало, поэтому попробуем избавиться от пропусков, а также привести признак к целочисленному типу."
   ]
  },
  {
   "cell_type": "code",
   "execution_count": 17,
   "metadata": {},
   "outputs": [],
   "source": [
    "data.dropna(subset = ['Tenure'], inplace = True)\n",
    "data['Tenure'] = data['Tenure'].astype('int')"
   ]
  },
  {
   "cell_type": "code",
   "execution_count": 18,
   "metadata": {},
   "outputs": [
    {
     "data": {
      "image/png": "[encoded data removed]",
      "text/plain": [
       "<Figure size 432x288 with 1 Axes>"
      ]
     },
     "metadata": {
      "needs_background": "light"
     },
     "output_type": "display_data"
    }
   ],
   "source": [
    "data.hist('Balance')\n",
    "plt.show()"
   ]
  },
  {
   "cell_type": "code",
   "execution_count": 19,
   "metadata": {},
   "outputs": [
    {
     "name": "stdout",
     "output_type": "stream",
     "text": [
      "Клиентов с нулевым балансом: 3283\n"
     ]
    },
    {
     "data": {
      "text/html": [
       "<div>\n",
       "<style scoped>\n",
       "    .dataframe tbody tr th:only-of-type {\n",
       "        vertical-align: middle;\n",
       "    }\n",
       "\n",
       "    .dataframe tbody tr th {\n",
       "        vertical-align: top;\n",
       "    }\n",
       "\n",
       "    .dataframe thead th {\n",
       "        text-align: right;\n",
       "    }\n",
       "</style>\n",
       "<table border=\"1\" class=\"dataframe\">\n",
       "  <thead>\n",
       "    <tr style=\"text-align: right;\">\n",
       "      <th></th>\n",
       "      <th>RowNumber</th>\n",
       "      <th>CustomerId</th>\n",
       "      <th>Surname</th>\n",
       "      <th>CreditScore</th>\n",
       "      <th>Geography</th>\n",
       "      <th>Gender</th>\n",
       "      <th>Age</th>\n",
       "      <th>Tenure</th>\n",
       "      <th>Balance</th>\n",
       "      <th>NumOfProducts</th>\n",
       "      <th>HasCrCard</th>\n",
       "      <th>IsActiveMember</th>\n",
       "      <th>EstimatedSalary</th>\n",
       "      <th>Exited</th>\n",
       "    </tr>\n",
       "  </thead>\n",
       "  <tbody>\n",
       "    <tr>\n",
       "      <td>0</td>\n",
       "      <td>1</td>\n",
       "      <td>15634602</td>\n",
       "      <td>Hargrave</td>\n",
       "      <td>619</td>\n",
       "      <td>France</td>\n",
       "      <td>Female</td>\n",
       "      <td>42</td>\n",
       "      <td>2</td>\n",
       "      <td>0.0</td>\n",
       "      <td>1</td>\n",
       "      <td>1</td>\n",
       "      <td>1</td>\n",
       "      <td>101348.88</td>\n",
       "      <td>1</td>\n",
       "    </tr>\n",
       "    <tr>\n",
       "      <td>3</td>\n",
       "      <td>4</td>\n",
       "      <td>15701354</td>\n",
       "      <td>Boni</td>\n",
       "      <td>699</td>\n",
       "      <td>France</td>\n",
       "      <td>Female</td>\n",
       "      <td>39</td>\n",
       "      <td>1</td>\n",
       "      <td>0.0</td>\n",
       "      <td>2</td>\n",
       "      <td>0</td>\n",
       "      <td>0</td>\n",
       "      <td>93826.63</td>\n",
       "      <td>0</td>\n",
       "    </tr>\n",
       "    <tr>\n",
       "      <td>6</td>\n",
       "      <td>7</td>\n",
       "      <td>15592531</td>\n",
       "      <td>Bartlett</td>\n",
       "      <td>822</td>\n",
       "      <td>France</td>\n",
       "      <td>Male</td>\n",
       "      <td>50</td>\n",
       "      <td>7</td>\n",
       "      <td>0.0</td>\n",
       "      <td>2</td>\n",
       "      <td>1</td>\n",
       "      <td>1</td>\n",
       "      <td>10062.80</td>\n",
       "      <td>0</td>\n",
       "    </tr>\n",
       "    <tr>\n",
       "      <td>11</td>\n",
       "      <td>12</td>\n",
       "      <td>15737173</td>\n",
       "      <td>Andrews</td>\n",
       "      <td>497</td>\n",
       "      <td>Spain</td>\n",
       "      <td>Male</td>\n",
       "      <td>24</td>\n",
       "      <td>3</td>\n",
       "      <td>0.0</td>\n",
       "      <td>2</td>\n",
       "      <td>1</td>\n",
       "      <td>0</td>\n",
       "      <td>76390.01</td>\n",
       "      <td>0</td>\n",
       "    </tr>\n",
       "    <tr>\n",
       "      <td>12</td>\n",
       "      <td>13</td>\n",
       "      <td>15632264</td>\n",
       "      <td>Kay</td>\n",
       "      <td>476</td>\n",
       "      <td>France</td>\n",
       "      <td>Female</td>\n",
       "      <td>34</td>\n",
       "      <td>10</td>\n",
       "      <td>0.0</td>\n",
       "      <td>2</td>\n",
       "      <td>1</td>\n",
       "      <td>0</td>\n",
       "      <td>26260.98</td>\n",
       "      <td>0</td>\n",
       "    </tr>\n",
       "  </tbody>\n",
       "</table>\n",
       "</div>"
      ],
      "text/plain": [
       "    RowNumber  CustomerId   Surname  CreditScore Geography  Gender  Age  \\\n",
       "0           1    15634602  Hargrave          619    France  Female   42   \n",
       "3           4    15701354      Boni          699    France  Female   39   \n",
       "6           7    15592531  Bartlett          822    France    Male   50   \n",
       "11         12    15737173   Andrews          497     Spain    Male   24   \n",
       "12         13    15632264       Kay          476    France  Female   34   \n",
       "\n",
       "    Tenure  Balance  NumOfProducts  HasCrCard  IsActiveMember  \\\n",
       "0        2      0.0              1          1               1   \n",
       "3        1      0.0              2          0               0   \n",
       "6        7      0.0              2          1               1   \n",
       "11       3      0.0              2          1               0   \n",
       "12      10      0.0              2          1               0   \n",
       "\n",
       "    EstimatedSalary  Exited  \n",
       "0         101348.88       1  \n",
       "3          93826.63       0  \n",
       "6          10062.80       0  \n",
       "11         76390.01       0  \n",
       "12         26260.98       0  "
      ]
     },
     "execution_count": 19,
     "metadata": {},
     "output_type": "execute_result"
    }
   ],
   "source": [
    "zero_balance = data.query('Balance == 0')\n",
    "print('Клиентов с нулевым балансом:', len(zero_balance))\n",
    "zero_balance.head()"
   ]
  },
  {
   "cell_type": "code",
   "execution_count": 20,
   "metadata": {},
   "outputs": [
    {
     "data": {
      "image/png": "[encoded data removed]",
      "text/plain": [
       "<Figure size 432x288 with 1 Axes>"
      ]
     },
     "metadata": {
      "needs_background": "light"
     },
     "output_type": "display_data"
    }
   ],
   "source": [
    "data.boxplot('EstimatedSalary')\n",
    "plt.show()"
   ]
  },
  {
   "cell_type": "markdown",
   "metadata": {},
   "source": [
    "### Подготовим выборки для дальнейшего обучения моделей"
   ]
  },
  {
   "cell_type": "code",
   "execution_count": 21,
   "metadata": {},
   "outputs": [
    {
     "data": {
      "text/plain": [
       "909"
      ]
     },
     "execution_count": 21,
     "metadata": {},
     "output_type": "execute_result"
    }
   ],
   "source": [
    "len(data.query('EstimatedSalary < 20_000'))"
   ]
  },
  {
   "cell_type": "code",
   "execution_count": 22,
   "metadata": {},
   "outputs": [],
   "source": [
    "#Удалим ненужные признаки:\n",
    "features_ignored = ['RowNumber', 'CustomerId', 'Surname']\n",
    "data = data.drop(features_ignored, axis=1)"
   ]
  },
  {
   "cell_type": "code",
   "execution_count": 23,
   "metadata": {},
   "outputs": [],
   "source": [
    "#Зафиксируем псевдослучайность для всех используемых в проекте алгоритмов:\n",
    "rnd_state = 12345"
   ]
  },
  {
   "cell_type": "code",
   "execution_count": 24,
   "metadata": {},
   "outputs": [],
   "source": [
    "#Определим несколько функций, которые пригодятся в дальнейшем и избавят нас от дублирования кода.\n",
    "\n",
    "def tf(data, target_column='Exited'):\n",
    "    '''Функция возвращает целевой признак и признаки для обучения модели.'''    \n",
    "    target = data[target_column]\n",
    "    features = data.drop(target_column, axis=1)\n",
    "    return target, features"
   ]
  },
  {
   "cell_type": "markdown",
   "metadata": {},
   "source": [
    "Спрятанной тестовой выборки в задании нет, поэтому будем разбивать исходный набор данных на три части: обучающую, валидационную и тестовую. Размеры тестового и валидационного наборов сделаем равными."
   ]
  },
  {
   "cell_type": "code",
   "execution_count": 25,
   "metadata": {},
   "outputs": [],
   "source": [
    "def split_data(features, target):\n",
    "    '''\n",
    "    Функция разделяет заданный датасет на обучающую, валидационную и тестовую выборки:\n",
    "    60% | 20% | 20%\n",
    "    '''\n",
    "    features_train, features_valid, target_train, target_valid = train_test_split(\n",
    "        features, target, test_size=0.4, random_state=rnd_state\n",
    "    )\n",
    "\n",
    "    features_valid, features_test, target_valid, target_test = train_test_split(\n",
    "        features_valid, target_valid, test_size=0.5, random_state=rnd_state\n",
    "    )\n",
    "    \n",
    "    # выполним масштабирование количественных признаков\n",
    "    scaler = StandardScaler()\n",
    "    numeric = ['CreditScore', 'Age', 'Tenure', 'Balance', 'NumOfProducts', 'EstimatedSalary']\n",
    "    scaler.fit(features_train[numeric])\n",
    "    \n",
    "    features_train[numeric] = scaler.transform(features_train[numeric])\n",
    "    features_valid[numeric] = scaler.transform(features_valid[numeric])\n",
    "    features_test[numeric] = scaler.transform(features_test[numeric])\n",
    "    \n",
    "    return features_train, features_valid, features_test, target_train, target_valid, target_test"
   ]
  },
  {
   "cell_type": "code",
   "execution_count": 26,
   "metadata": {},
   "outputs": [],
   "source": [
    "def train_and_predict(data, model, log_prefix='', samplefunc=None, test=False):\n",
    "    '''Функция возвращает обученную модель.'''\n",
    "    target, features = tf(data)\n",
    "    features_train, features_valid, features_test, target_train, target_valid, target_test = split_data(features, target)\n",
    "    \n",
    "    if samplefunc:\n",
    "        features_train, target_train = samplefunc(features_train, target_train)\n",
    "    \n",
    "    model.fit(features_train, target_train)\n",
    "    predicted_valid = model.predict(features_valid)\n",
    "    print(f'{log_prefix}F1-мера на валидационной выборке: {f1_score(target_valid, predicted_valid)}')\n",
    "    \n",
    "    if test:\n",
    "        predictions_test = model.predict(features_test)\n",
    "        print(f'{log_prefix}F1-мера на тестовой выборке: {f1_score(target_test, predicted_test)}')\n",
    "    \n",
    "    return model"
   ]
  },
  {
   "cell_type": "markdown",
   "metadata": {},
   "source": [
    "#### Выводы\n",
    "Датасет состоит из 10 000 объектов и 14 признаков. Из них для обучения модели нам не понадобятся:\n",
    "\n",
    "- RowNumber индекс строки в данных;\n",
    "- CustomerId уникальный идентификатор;\n",
    "- Surname фамилия клиента.\n",
    "\n",
    "Целевой признак для нашей задачи – Exited. Модель, которую мы построим, будет предсказывать \n",
    "- значение 1 если клиент уйдет \n",
    "- значение 0 если клиент останется   \n",
    "Это задача бинарной классификации.\n",
    "\n",
    "\n",
    "В датасете представлены клиенты из трех стран EC: \n",
    "- Франции ~50% \n",
    "- Германии ~25%\n",
    "- Испании ~25%.\n",
    "Следовательно, все денежные суммы указаны в евро €.\n",
    "\n",
    "Признак Tenure (количество недвижимости у клиента) содержит 909 пропусков. Мы их удалили и привели признак к целочисленному типу.\n",
    "\n",
    "У 3 617 клиентов банка нулевой баланс на счете. Такая ситуация может быть вполне реалистичной – не у всех клиентов может быть положительный баланс, особенно при условии бесплатного обслуживания. В реальной практике мы бы обязательно уточнили этот момент у коллег. Если бы мы убрали объекты, у которых баланс меньше 25 000 (это видно по гистограмме), то есть шанс, что модель будет плохо предсказывать в подобных случаях.\n",
    "Заметим, что предполагаемая зарплата EstimatedSalary имеет странности: нижний ус упирается в близкое к нулю значение, но при этом первый квартиль лежит на урове €50 000. Как и в случае с балансом, мы могли бы уточнить как формируется данный признак, например, заполняет его клиент или же предсказывает другая модель. Оставим как есть, вдруг кто-то живет на дивиденды от недвижимости или временно проживает в стране."
   ]
  },
  {
   "cell_type": "markdown",
   "metadata": {},
   "source": [
    "# 2. Исследование задачи"
   ]
  },
  {
   "cell_type": "code",
   "execution_count": 27,
   "metadata": {},
   "outputs": [],
   "source": [
    "# Отключим предупреждения для того, чтобы успешно смаштабировать количественные признаки\n",
    "pd.options.mode.chained_assignment = None"
   ]
  },
  {
   "cell_type": "markdown",
   "metadata": {},
   "source": [
    "Проверим, как часто в целевом признаке нашего исходного датасета встречается класс «1» или «0»:"
   ]
  },
  {
   "cell_type": "code",
   "execution_count": 28,
   "metadata": {},
   "outputs": [
    {
     "name": "stdout",
     "output_type": "stream",
     "text": [
      "0    0.796062\n",
      "1    0.203938\n",
      "Name: Exited, dtype: float64\n"
     ]
    },
    {
     "data": {
      "image/png": "[encoded data removed]",
      "text/plain": [
       "<Figure size 432x288 with 1 Axes>"
      ]
     },
     "metadata": {
      "needs_background": "light"
     },
     "output_type": "display_data"
    }
   ],
   "source": [
    "class_frequency = data['Exited'].value_counts(normalize=True)\n",
    "class_frequency.plot(kind='bar')\n",
    "print(class_frequency)\n",
    "plt.show()"
   ]
  },
  {
   "cell_type": "markdown",
   "metadata": {},
   "source": [
    "Соотношение классов далеко от 1:1, т.е. они несбалансированы: ~80% отрицательных и ~20% положительных.\n",
    "\n",
    "> На данном этапе мы будем исследовать модели без учета дисбаланса классов, заведомо ожидая плохие результаты.\n",
    "\n",
    "Также на этапе подготовки данных мы увидили, что часть признаков нашего датасета – категориальные. Для обучения модели логистической регрессии нам потребуется преобразовать категориальные признаки прямым кодированием, а для обучения модели решающего дерева или случайного леса выполнить порядковое кодирование."
   ]
  },
  {
   "cell_type": "markdown",
   "metadata": {},
   "source": [
    "## Логистическая регрессия"
   ]
  },
  {
   "cell_type": "code",
   "execution_count": 29,
   "metadata": {},
   "outputs": [],
   "source": [
    "data_ohe = pd.get_dummies(data, drop_first=True)"
   ]
  },
  {
   "cell_type": "code",
   "execution_count": 30,
   "metadata": {},
   "outputs": [
    {
     "name": "stdout",
     "output_type": "stream",
     "text": [
      "F1-мера на валидационной выборке: 0.30400000000000005\n"
     ]
    },
    {
     "data": {
      "text/plain": [
       "LogisticRegression(C=1.0, class_weight=None, dual=False, fit_intercept=True,\n",
       "                   intercept_scaling=1, l1_ratio=None, max_iter=100,\n",
       "                   multi_class='warn', n_jobs=None, penalty='l2',\n",
       "                   random_state=12345, solver='liblinear', tol=0.0001,\n",
       "                   verbose=0, warm_start=False)"
      ]
     },
     "execution_count": 30,
     "metadata": {},
     "output_type": "execute_result"
    }
   ],
   "source": [
    "model = LogisticRegression(solver='liblinear', random_state=rnd_state)\n",
    "train_and_predict(data_ohe, model)"
   ]
  },
  {
   "cell_type": "markdown",
   "metadata": {},
   "source": [
    "При дисбалансе классов логистическая регрессия предсказывает крайне плохо."
   ]
  },
  {
   "cell_type": "markdown",
   "metadata": {},
   "source": [
    "Перед тем, как экспериментировать с моделями дерева решений и случайного леса, воспользуемся техникой порядкового кодирования для категориальных признаков."
   ]
  },
  {
   "cell_type": "code",
   "execution_count": 31,
   "metadata": {},
   "outputs": [],
   "source": [
    "encoder = OrdinalEncoder()\n",
    "data_ordinal = pd.DataFrame(encoder.fit_transform(data), columns=data.columns)"
   ]
  },
  {
   "cell_type": "markdown",
   "metadata": {},
   "source": [
    "## Дерево решений"
   ]
  },
  {
   "cell_type": "code",
   "execution_count": 32,
   "metadata": {},
   "outputs": [
    {
     "name": "stdout",
     "output_type": "stream",
     "text": [
      "max_depth 2:\tF1-мера на валидационной выборке: 0.5304878048780488\n",
      "max_depth 4:\tF1-мера на валидационной выборке: 0.5414551607445008\n",
      "max_depth 6:\tF1-мера на валидационной выборке: 0.5106382978723404\n",
      "max_depth 8:\tF1-мера на валидационной выборке: 0.5085910652920962\n",
      "max_depth 10:\tF1-мера на валидационной выборке: 0.5421133231240429\n",
      "max_depth 12:\tF1-мера на валидационной выборке: 0.5\n",
      "max_depth 14:\tF1-мера на валидационной выборке: 0.4798927613941019\n",
      "max_depth 16:\tF1-мера на валидационной выборке: 0.4746666666666667\n",
      "max_depth 18:\tF1-мера на валидационной выборке: 0.4562334217506631\n",
      "max_depth 20:\tF1-мера на валидационной выборке: 0.45144356955380577\n"
     ]
    }
   ],
   "source": [
    "for max_depth in range(2, 22, 2):\n",
    "    model = DecisionTreeClassifier(max_depth=max_depth, random_state=rnd_state)\n",
    "    train_and_predict(data_ordinal, model, log_prefix=f'max_depth {max_depth}:\\t')"
   ]
  },
  {
   "cell_type": "markdown",
   "metadata": {},
   "source": [
    "Пока лучшие результаты 0.5421133231240429 получили у модели с глубиной равной 10."
   ]
  },
  {
   "cell_type": "markdown",
   "metadata": {},
   "source": [
    "## Случайный лес"
   ]
  },
  {
   "cell_type": "markdown",
   "metadata": {},
   "source": [
    "В качестве гиперпараметра глубины дерева возьмем значение, найденное для предыдущей модели. А количество деревьев для нашего случайного леса будет искать в диапазоне от 10 до 200 с шагом 10."
   ]
  },
  {
   "cell_type": "code",
   "execution_count": 33,
   "metadata": {},
   "outputs": [
    {
     "name": "stdout",
     "output_type": "stream",
     "text": [
      "n_estimators = 10:\tF1-мера на валидационной выборке: 0.5690235690235691\n",
      "n_estimators = 20:\tF1-мера на валидационной выборке: 0.5724020442930153\n",
      "n_estimators = 30:\tF1-мера на валидационной выборке: 0.5830508474576271\n",
      "n_estimators = 40:\tF1-мера на валидационной выборке: 0.5733788395904437\n",
      "n_estimators = 50:\tF1-мера на валидационной выборке: 0.5660377358490567\n",
      "n_estimators = 60:\tF1-мера на валидационной выборке: 0.5655172413793104\n",
      "n_estimators = 70:\tF1-мера на валидационной выборке: 0.5660377358490567\n",
      "n_estimators = 80:\tF1-мера на валидационной выборке: 0.5660377358490567\n",
      "n_estimators = 90:\tF1-мера на валидационной выборке: 0.5565217391304348\n",
      "n_estimators = 100:\tF1-мера на валидационной выборке: 0.5640138408304498\n",
      "n_estimators = 110:\tF1-мера на валидационной выборке: 0.5555555555555556\n",
      "n_estimators = 120:\tF1-мера на валидационной выборке: 0.5555555555555556\n",
      "n_estimators = 130:\tF1-мера на валидационной выборке: 0.5580589254766032\n",
      "n_estimators = 140:\tF1-мера на валидационной выборке: 0.5611015490533563\n",
      "n_estimators = 150:\tF1-мера на валидационной выборке: 0.5655172413793104\n",
      "n_estimators = 160:\tF1-мера на валидационной выборке: 0.563573883161512\n",
      "n_estimators = 170:\tF1-мера на валидационной выборке: 0.5620689655172414\n",
      "n_estimators = 180:\tF1-мера на валидационной выборке: 0.5620689655172414\n",
      "n_estimators = 190:\tF1-мера на валидационной выборке: 0.5679862306368331\n",
      "n_estimators = 200:\tF1-мера на валидационной выборке: 0.5670103092783505\n"
     ]
    }
   ],
   "source": [
    "for estim in range(10, 201, 10):\n",
    "    model = RandomForestClassifier(n_estimators=estim, max_depth=10, random_state=rnd_state)\n",
    "    train_and_predict(data_ordinal, model, log_prefix=f'n_estimators = {estim}:\\t')"
   ]
  },
  {
   "cell_type": "markdown",
   "metadata": {},
   "source": [
    "Модель случайного леса предсказывает чуть лучше, чем дерево решений. Лучший результат 0.5830508474576271 достигается при количестве деревьев равном 30."
   ]
  },
  {
   "cell_type": "markdown",
   "metadata": {},
   "source": [
    "# 3. Борьба с дисбалансом"
   ]
  },
  {
   "cell_type": "markdown",
   "metadata": {},
   "source": [
    "### Взвешивание классов\n",
    "Придадим объектам редкого класса 1 больший вес используя гиперпараметр class_weight='balanced'."
   ]
  },
  {
   "cell_type": "markdown",
   "metadata": {},
   "source": [
    "#### Логистическая регрессия"
   ]
  },
  {
   "cell_type": "code",
   "execution_count": 27,
   "metadata": {},
   "outputs": [
    {
     "name": "stdout",
     "output_type": "stream",
     "text": [
      "F1-мера на валидационной выборке: 0.509731232622799\n"
     ]
    },
    {
     "data": {
      "text/plain": [
       "LogisticRegression(C=1.0, class_weight='balanced', dual=False,\n",
       "                   fit_intercept=True, intercept_scaling=1, l1_ratio=None,\n",
       "                   max_iter=100, multi_class='warn', n_jobs=None, penalty='l2',\n",
       "                   random_state=12345, solver='liblinear', tol=0.0001,\n",
       "                   verbose=0, warm_start=False)"
      ]
     },
     "execution_count": 27,
     "metadata": {},
     "output_type": "execute_result"
    }
   ],
   "source": [
    "model = LogisticRegression(class_weight='balanced', solver='liblinear', random_state=rnd_state)\n",
    "train_and_predict(data_ohe, model)"
   ]
  },
  {
   "cell_type": "markdown",
   "metadata": {},
   "source": [
    "Значение F1-меры для логистической регрессии увеличилось"
   ]
  },
  {
   "cell_type": "markdown",
   "metadata": {},
   "source": [
    "#### Дерево решений"
   ]
  },
  {
   "cell_type": "code",
   "execution_count": 28,
   "metadata": {},
   "outputs": [
    {
     "name": "stdout",
     "output_type": "stream",
     "text": [
      "max_depth 2:\tF1-мера на валидационной выборке: 0.5297619047619048\n",
      "max_depth 4:\tF1-мера на валидационной выборке: 0.5045492142266335\n",
      "max_depth 6:\tF1-мера на валидационной выборке: 0.574370709382151\n",
      "max_depth 8:\tF1-мера на валидационной выборке: 0.5362637362637362\n",
      "max_depth 10:\tF1-мера на валидационной выборке: 0.4988962472406181\n",
      "max_depth 12:\tF1-мера на валидационной выборке: 0.4895104895104895\n",
      "max_depth 14:\tF1-мера на валидационной выборке: 0.4809160305343511\n",
      "max_depth 16:\tF1-мера на валидационной выборке: 0.4708994708994709\n",
      "max_depth 18:\tF1-мера на валидационной выборке: 0.472630173564753\n",
      "max_depth 20:\tF1-мера на валидационной выборке: 0.4777327935222672\n"
     ]
    }
   ],
   "source": [
    "for max_depth in range(2, 22, 2):\n",
    "    model = DecisionTreeClassifier(class_weight='balanced', max_depth=max_depth, random_state=rnd_state)\n",
    "    train_and_predict(data_ordinal, model, log_prefix=f'max_depth {max_depth}:\\t')"
   ]
  },
  {
   "cell_type": "markdown",
   "metadata": {},
   "source": [
    "Для дерева решений с глубиной 10 (что было у нас) F1 - мера уменьшилась. Но увеличилась для глубины 6"
   ]
  },
  {
   "cell_type": "markdown",
   "metadata": {},
   "source": [
    "#### Случайный лес"
   ]
  },
  {
   "cell_type": "code",
   "execution_count": 38,
   "metadata": {},
   "outputs": [
    {
     "name": "stdout",
     "output_type": "stream",
     "text": [
      "n_estimators = 10:\tF1-мера на валидационной выборке: 0.59874213836478\n",
      "n_estimators = 20:\tF1-мера на валидационной выборке: 0.6209573091849936\n",
      "n_estimators = 30:\tF1-мера на валидационной выборке: 0.6266318537859008\n",
      "n_estimators = 40:\tF1-мера на валидационной выборке: 0.6310299869621904\n",
      "n_estimators = 50:\tF1-мера на валидационной выборке: 0.6266318537859008\n",
      "n_estimators = 60:\tF1-мера на валидационной выборке: 0.6204188481675392\n",
      "n_estimators = 70:\tF1-мера на валидационной выборке: 0.6258148631029987\n",
      "n_estimators = 80:\tF1-мера на валидационной выборке: 0.6274509803921569\n",
      "n_estimators = 90:\tF1-мера на валидационной выборке: 0.6290956749672346\n",
      "n_estimators = 100:\tF1-мера на валидационной выборке: 0.6194225721784776\n",
      "n_estimators = 110:\tF1-мера на валидационной выборке: 0.6261558784676355\n",
      "n_estimators = 120:\tF1-мера на валидационной выборке: 0.6254927726675427\n",
      "n_estimators = 130:\tF1-мера на валидационной выборке: 0.6340819022457067\n",
      "n_estimators = 140:\tF1-мера на валидационной выборке: 0.6314398943196828\n",
      "n_estimators = 150:\tF1-мера на валидационной выборке: 0.6317169069462647\n",
      "n_estimators = 160:\tF1-мера на валидационной выборке: 0.6318537859007833\n",
      "n_estimators = 170:\tF1-мера на валидационной выборке: 0.6307490144546649\n",
      "n_estimators = 180:\tF1-мера на валидационной выборке: 0.6290956749672346\n",
      "n_estimators = 190:\tF1-мера на валидационной выборке: 0.6290956749672346\n",
      "n_estimators = 200:\tF1-мера на валидационной выборке: 0.6290956749672346\n"
     ]
    }
   ],
   "source": [
    "for estim in range(10, 201, 10):\n",
    "    model = RandomForestClassifier(class_weight='balanced', n_estimators=estim, max_depth=10, random_state=rnd_state)\n",
    "    train_and_predict(data_ordinal, model, log_prefix=f'n_estimators = {estim}:\\t')"
   ]
  },
  {
   "cell_type": "markdown",
   "metadata": {},
   "source": [
    "А вот модель случайного леса показывает самое высокое значение F1-меры: 0.6318537859007833 при количестве деревьев равном 160."
   ]
  },
  {
   "cell_type": "markdown",
   "metadata": {},
   "source": [
    "### Увеличение выборки"
   ]
  },
  {
   "cell_type": "markdown",
   "metadata": {},
   "source": [
    "Cделаем объекты редкого класса не такими редкими и переобучим модели."
   ]
  },
  {
   "cell_type": "code",
   "execution_count": 30,
   "metadata": {},
   "outputs": [],
   "source": [
    "def upsample(features, target, repeat=10):\n",
    "    features_zeros = features[target == 0]\n",
    "    features_ones = features[target == 1]\n",
    "    target_zeros = target[target == 0]\n",
    "    target_ones = target[target == 1]\n",
    "\n",
    "    features_upsampled = pd.concat([features_zeros] + [features_ones] * repeat)\n",
    "    target_upsampled = pd.concat([target_zeros] + [target_ones] * repeat)\n",
    "    \n",
    "    features_upsampled, target_upsampled = shuffle(\n",
    "        features_upsampled, target_upsampled, random_state=rnd_state)\n",
    "    \n",
    "    return features_upsampled, target_upsampled"
   ]
  },
  {
   "cell_type": "markdown",
   "metadata": {},
   "source": [
    "#### Логистическая регрессия"
   ]
  },
  {
   "cell_type": "code",
   "execution_count": 31,
   "metadata": {},
   "outputs": [
    {
     "name": "stdout",
     "output_type": "stream",
     "text": [
      "F1-мера на валидационной выборке: 0.41538461538461535\n"
     ]
    },
    {
     "data": {
      "text/plain": [
       "LogisticRegression(C=1.0, class_weight=None, dual=False, fit_intercept=True,\n",
       "                   intercept_scaling=1, l1_ratio=None, max_iter=100,\n",
       "                   multi_class='warn', n_jobs=None, penalty='l2',\n",
       "                   random_state=12345, solver='liblinear', tol=0.0001,\n",
       "                   verbose=0, warm_start=False)"
      ]
     },
     "execution_count": 31,
     "metadata": {},
     "output_type": "execute_result"
    }
   ],
   "source": [
    "model = LogisticRegression(solver='liblinear', random_state=rnd_state)\n",
    "train_and_predict(data_ohe, model, samplefunc=upsample)"
   ]
  },
  {
   "cell_type": "markdown",
   "metadata": {},
   "source": [
    "#### Дерево решений"
   ]
  },
  {
   "cell_type": "code",
   "execution_count": 32,
   "metadata": {},
   "outputs": [
    {
     "name": "stdout",
     "output_type": "stream",
     "text": [
      "max_depth 2:\tF1-мера на валидационной выборке: 0.5100788781770377\n",
      "max_depth 4:\tF1-мера на валидационной выборке: 0.4598786244099798\n",
      "max_depth 6:\tF1-мера на валидационной выборке: 0.5321100917431193\n",
      "max_depth 8:\tF1-мера на валидационной выборке: 0.4886452623335944\n",
      "max_depth 10:\tF1-мера на валидационной выборке: 0.4908616187989556\n",
      "max_depth 12:\tF1-мера на валидационной выборке: 0.4820213799805637\n",
      "max_depth 14:\tF1-мера на валидационной выборке: 0.4722222222222222\n",
      "max_depth 16:\tF1-мера на валидационной выборке: 0.46539379474940334\n",
      "max_depth 18:\tF1-мера на валидационной выборке: 0.463130659767141\n",
      "max_depth 20:\tF1-мера на валидационной выборке: 0.4489247311827957\n"
     ]
    }
   ],
   "source": [
    "for max_depth in range(2, 22, 2):\n",
    "    model = DecisionTreeClassifier(max_depth=max_depth, random_state=rnd_state)\n",
    "    train_and_predict(data_ordinal, model, samplefunc=upsample, log_prefix=f'max_depth {max_depth}:\\t')"
   ]
  },
  {
   "cell_type": "markdown",
   "metadata": {},
   "source": [
    "#### Случайный лес"
   ]
  },
  {
   "cell_type": "code",
   "execution_count": 39,
   "metadata": {},
   "outputs": [
    {
     "name": "stdout",
     "output_type": "stream",
     "text": [
      "n_estimators = 10:\tF1-мера на валидационной выборке: 0.5602836879432624\n",
      "n_estimators = 20:\tF1-мера на валидационной выборке: 0.5552608311229001\n",
      "n_estimators = 30:\tF1-мера на валидационной выборке: 0.5631067961165048\n",
      "n_estimators = 40:\tF1-мера на валидационной выборке: 0.5625554569653949\n",
      "n_estimators = 50:\tF1-мера на валидационной выборке: 0.5589285714285714\n",
      "n_estimators = 60:\tF1-мера на валидационной выборке: 0.5655296229802513\n",
      "n_estimators = 70:\tF1-мера на валидационной выборке: 0.5673249551166966\n",
      "n_estimators = 80:\tF1-мера на валидационной выборке: 0.573502722323049\n",
      "n_estimators = 90:\tF1-мера на валидационной выборке: 0.5729729729729729\n",
      "n_estimators = 100:\tF1-мера на валидационной выборке: 0.5701275045537341\n",
      "n_estimators = 110:\tF1-мера на валидационной выборке: 0.5714285714285714\n",
      "n_estimators = 120:\tF1-мера на валидационной выборке: 0.572463768115942\n",
      "n_estimators = 130:\tF1-мера на валидационной выборке: 0.5698630136986301\n",
      "n_estimators = 140:\tF1-мера на валидационной выборке: 0.5711678832116788\n",
      "n_estimators = 150:\tF1-мера на валидационной выборке: 0.5688073394495413\n",
      "n_estimators = 160:\tF1-мера на валидационной выборке: 0.5695970695970696\n",
      "n_estimators = 170:\tF1-мера на валидационной выборке: 0.5706422018348625\n",
      "n_estimators = 180:\tF1-мера на валидационной выборке: 0.5701107011070111\n",
      "n_estimators = 190:\tF1-мера на валидационной выборке: 0.5714285714285714\n",
      "n_estimators = 200:\tF1-мера на валидационной выборке: 0.5703771849126036\n"
     ]
    }
   ],
   "source": [
    "for estim in range(10, 201, 10):\n",
    "    model = RandomForestClassifier(n_estimators=estim, max_depth=10, random_state=rnd_state)\n",
    "    train_and_predict(data_ordinal, model, samplefunc=upsample, log_prefix=f'n_estimators = {estim}:\\t')"
   ]
  },
  {
   "cell_type": "markdown",
   "metadata": {},
   "source": [
    "Значение F1-меры у каждой из рассмотренных моделей меньше, чем в случае балансировки классов."
   ]
  },
  {
   "cell_type": "markdown",
   "metadata": {},
   "source": [
    "### Уменьшение выборки"
   ]
  },
  {
   "cell_type": "code",
   "execution_count": 34,
   "metadata": {},
   "outputs": [],
   "source": [
    "def downsample(features, target, fraction = 0.2):\n",
    "    features_zeros = features[target == 0]\n",
    "    features_ones = features[target == 1]\n",
    "    target_zeros = target[target == 0]\n",
    "    target_ones = target[target == 1]\n",
    "\n",
    "    features_downsampled = pd.concat(\n",
    "        [features_zeros.sample(frac=fraction, random_state=rnd_state)] + [features_ones]\n",
    "    )\n",
    "    target_downsampled = pd.concat(\n",
    "        [target_zeros.sample(frac=fraction, random_state=rnd_state)] + [target_ones]\n",
    "    )\n",
    "    \n",
    "    return features_downsampled, target_downsampled"
   ]
  },
  {
   "cell_type": "markdown",
   "metadata": {},
   "source": [
    "#### Логистическая регрессия"
   ]
  },
  {
   "cell_type": "code",
   "execution_count": 35,
   "metadata": {},
   "outputs": [
    {
     "name": "stdout",
     "output_type": "stream",
     "text": [
      "F1-мера на валидационной выборке: 0.48878205128205127\n"
     ]
    },
    {
     "data": {
      "text/plain": [
       "LogisticRegression(C=1.0, class_weight=None, dual=False, fit_intercept=True,\n",
       "                   intercept_scaling=1, l1_ratio=None, max_iter=100,\n",
       "                   multi_class='warn', n_jobs=None, penalty='l2',\n",
       "                   random_state=12345, solver='liblinear', tol=0.0001,\n",
       "                   verbose=0, warm_start=False)"
      ]
     },
     "execution_count": 35,
     "metadata": {},
     "output_type": "execute_result"
    }
   ],
   "source": [
    "model = LogisticRegression(solver='liblinear', random_state=rnd_state)\n",
    "train_and_predict(data_ohe, model, samplefunc=downsample)"
   ]
  },
  {
   "cell_type": "markdown",
   "metadata": {},
   "source": [
    "#### Дерево решений"
   ]
  },
  {
   "cell_type": "code",
   "execution_count": 36,
   "metadata": {},
   "outputs": [
    {
     "name": "stdout",
     "output_type": "stream",
     "text": [
      "max_depth 2:\tF1-мера на валидационной выборке: 0.5100788781770377\n",
      "max_depth 4:\tF1-мера на валидационной выборке: 0.5242399342645849\n",
      "max_depth 6:\tF1-мера на валидационной выборке: 0.533003300330033\n",
      "max_depth 8:\tF1-мера на валидационной выборке: 0.5238938053097345\n",
      "max_depth 10:\tF1-мера на валидационной выборке: 0.5340699815837937\n",
      "max_depth 12:\tF1-мера на валидационной выборке: 0.5057880676758681\n",
      "max_depth 14:\tF1-мера на валидационной выборке: 0.497391304347826\n",
      "max_depth 16:\tF1-мера на валидационной выборке: 0.4861111111111111\n",
      "max_depth 18:\tF1-мера на валидационной выборке: 0.49043478260869566\n",
      "max_depth 20:\tF1-мера на валидационной выборке: 0.49043478260869566\n"
     ]
    }
   ],
   "source": [
    "for max_depth in range(2, 22, 2):\n",
    "    model = DecisionTreeClassifier(max_depth=max_depth, random_state=rnd_state)\n",
    "    train_and_predict(data_ordinal, model, samplefunc=downsample, log_prefix=f'max_depth {max_depth}:\\t')"
   ]
  },
  {
   "cell_type": "markdown",
   "metadata": {},
   "source": [
    "#### Случайный лес"
   ]
  },
  {
   "cell_type": "code",
   "execution_count": 40,
   "metadata": {},
   "outputs": [
    {
     "name": "stdout",
     "output_type": "stream",
     "text": [
      "n_estimators = 10:\tF1-мера на валидационной выборке: 0.5529308836395451\n",
      "n_estimators = 20:\tF1-мера на валидационной выборке: 0.5557491289198606\n",
      "n_estimators = 30:\tF1-мера на валидационной выборке: 0.5598591549295774\n",
      "n_estimators = 40:\tF1-мера на валидационной выборке: 0.5630550621669628\n",
      "n_estimators = 50:\tF1-мера на валидационной выборке: 0.5563380281690141\n",
      "n_estimators = 60:\tF1-мера на валидационной выборке: 0.5575221238938053\n",
      "n_estimators = 70:\tF1-мера на валидационной выборке: 0.5597874224977857\n",
      "n_estimators = 80:\tF1-мера на валидационной выборке: 0.5580985915492959\n",
      "n_estimators = 90:\tF1-мера на валидационной выборке: 0.5574057843996495\n",
      "n_estimators = 100:\tF1-мера на валидационной выборке: 0.558180227471566\n",
      "n_estimators = 110:\tF1-мера на валидационной выборке: 0.5608465608465609\n",
      "n_estimators = 120:\tF1-мера на валидационной выборке: 0.5583845478489903\n",
      "n_estimators = 130:\tF1-мера на валидационной выборке: 0.5633802816901409\n",
      "n_estimators = 140:\tF1-мера на валидационной выборке: 0.5601404741000878\n",
      "n_estimators = 150:\tF1-мера на валидационной выборке: 0.5616197183098591\n",
      "n_estimators = 160:\tF1-мера на валидационной выборке: 0.5569176882661997\n",
      "n_estimators = 170:\tF1-мера на валидационной выборке: 0.561341571050309\n",
      "n_estimators = 180:\tF1-мера на валидационной выборке: 0.5576077396657872\n",
      "n_estimators = 190:\tF1-мера на валидационной выборке: 0.5553602811950791\n",
      "n_estimators = 200:\tF1-мера на валидационной выборке: 0.5524475524475525\n"
     ]
    }
   ],
   "source": [
    "for estim in range(10, 201, 10):\n",
    "    model = RandomForestClassifier(n_estimators=estim, max_depth=10, random_state=rnd_state)\n",
    "    train_and_predict(data_ordinal, model, samplefunc=downsample, log_prefix=f'n_estimators = {estim}:\\t')"
   ]
  },
  {
   "cell_type": "markdown",
   "metadata": {},
   "source": [
    "Значение F1-меры у каждой из рассмотренных моделей меньше, чем в случае балансировки классов."
   ]
  },
  {
   "cell_type": "markdown",
   "metadata": {},
   "source": [
    "# 4. Тестирование модели"
   ]
  },
  {
   "cell_type": "markdown",
   "metadata": {},
   "source": [
    "На основе наших экспериментов с моделями можем сделать вывод, что лучшей моделью является случайный лес с количеством деревьев равным 160 и глубиной равной 10 с учетом балансировки классов.\n",
    "\n",
    ">F1 - мера = 0.6318537859007833\n",
    "\n",
    "Протестируем модель на тестовой выборке:"
   ]
  },
  {
   "cell_type": "code",
   "execution_count": 41,
   "metadata": {},
   "outputs": [
    {
     "name": "stdout",
     "output_type": "stream",
     "text": [
      "valid: 0.6318537859007833\n",
      "test: 0.5965909090909091\n"
     ]
    }
   ],
   "source": [
    "target, features = tf(data_ordinal)\n",
    "features_train, features_valid, features_test, target_train, target_valid, target_test = split_data(features, target)\n",
    "\n",
    "model = RandomForestClassifier(class_weight='balanced', n_estimators=160, max_depth=10, random_state=rnd_state)\n",
    "model.fit(features_train, target_train)\n",
    "\n",
    "predicted_valid = model.predict(features_valid)\n",
    "print('valid:', f1_score(target_valid, predicted_valid))\n",
    "\n",
    "predicted_test = model.predict(features_test)\n",
    "print('test:', f1_score(target_test, predicted_test))"
   ]
  },
  {
   "cell_type": "markdown",
   "metadata": {},
   "source": [
    "Посчитаем AUC-ROC для нашей модели и посмотрим насколько она лучше случайной модели:"
   ]
  },
  {
   "cell_type": "code",
   "execution_count": 43,
   "metadata": {},
   "outputs": [
    {
     "data": {
      "text/plain": [
       "0.8625917383485164"
      ]
     },
     "execution_count": 43,
     "metadata": {},
     "output_type": "execute_result"
    }
   ],
   "source": [
    "probabilities_valid = model.predict_proba(features_valid)\n",
    "probabilities_one_valid = probabilities_valid[:, 1]\n",
    "\n",
    "roc_auc_score(target_valid, probabilities_one_valid)"
   ]
  },
  {
   "cell_type": "markdown",
   "metadata": {},
   "source": [
    "AUC-ROC случайной модели равна 0.8626 – наша метрика выше и понемногу стремиться к недостижимой едицине."
   ]
  },
  {
   "cell_type": "markdown",
   "metadata": {},
   "source": [
    "# Чек-лист готовности проекта"
   ]
  },
  {
   "cell_type": "markdown",
   "metadata": {},
   "source": [
    "Поставьте 'x' в выполненных пунктах. Далее нажмите Shift+Enter."
   ]
  },
  {
   "cell_type": "markdown",
   "metadata": {},
   "source": [
    "- [x]  Jupyter Notebook открыт\n",
    "- [x]  Весь код выполняется без ошибок\n",
    "- [x]  Ячейки с кодом расположены в порядке исполнения\n",
    "- [x]  Выполнен шаг 1: данные подготовлены\n",
    "- [x]  Выполнен шаг 2: задача исследована\n",
    "    - [x]  Исследован баланс классов\n",
    "    - [x]  Изучены модели без учёта дисбаланса\n",
    "    - [x]  Написаны выводы по результатам исследования\n",
    "- [x]  Выполнен шаг 3: учтён дисбаланс\n",
    "    - [x]  Применено несколько способов борьбы с дисбалансом\n",
    "    - [x]  Написаны выводы по результатам исследования\n",
    "- [x]  Выполнен шаг 4: проведено тестирование\n",
    "- [x]  Удалось достичь *F1*-меры не менее 0.59\n",
    "- [x]  Исследована метрика *AUC-ROC*"
   ]
  }
 ],
 "metadata": {
  "kernelspec": {
   "display_name": "Python 3",
   "language": "python",
   "name": "python3"
  },
  "language_info": {
   "codemirror_mode": {
    "name": "ipython",
    "version": 3
   },
   "file_extension": ".py",
   "mimetype": "text/x-python",
   "name": "python",
   "nbconvert_exporter": "python",
   "pygments_lexer": "ipython3",
   "version": "3.7.6"
  }
 },
 "nbformat": 4,
 "nbformat_minor": 2
}
